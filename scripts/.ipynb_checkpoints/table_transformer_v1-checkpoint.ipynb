{
 "cells": [
  {
   "cell_type": "code",
   "execution_count": null,
   "id": "e392486b",
   "metadata": {},
   "outputs": [],
   "source": [
    "##Install Prerequesites\n",
    "%pip install -q git+https://github.com/huggingface/transformers.git\n",
    "%pip install -q timm"
   ]
  },
  {
   "cell_type": "code",
   "execution_count": null,
   "id": "23bef49d",
   "metadata": {},
   "outputs": [],
   "source": [
    "import torch\n",
    "import numpy as np\n",
    "from huggingface_hub import hf_hub_download\n",
    "from PIL import Image\n",
    "from transformers import DetrFeatureExtractor\n",
    "from transformers import TableTransformerForObjectDetection"
   ]
  },
  {
   "cell_type": "code",
   "execution_count": null,
   "id": "b65bf74e",
   "metadata": {},
   "outputs": [],
   "source": [
    "def scaler(box,xscale,yscale,xmax,ymax):\n",
    "    box[0]*=1-xscale\n",
    "    box[1]*=1-yscale\n",
    "    box[2]*=1+xscale\n",
    "    box[3]*=1+yscale\n",
    "    if box[2]>xmax:\n",
    "        box[2] = xmax\n",
    "    if box[3]>ymax:\n",
    "        box[3] = ymax\n",
    "    return box"
   ]
  },
  {
   "cell_type": "code",
   "execution_count": null,
   "id": "54ae3ade",
   "metadata": {},
   "outputs": [],
   "source": [
    "def table_detection(image):\n",
    "    width, height = image.size\n",
    "    feature_extractor = DetrFeatureExtractor()\n",
    "    encoding = feature_extractor(image, return_tensors=\"pt\")\n",
    "    model = TableTransformerForObjectDetection.from_pretrained(\"microsoft/table-transformer-detection\")\n",
    "\n",
    "    with torch.no_grad():\n",
    "        outputs = model(**encoding)\n",
    "\n",
    "    results = feature_extractor.post_process_object_detection(outputs, threshold=0.7, target_sizes=[(height, width)])[0]\n",
    "\n",
    "    cropped_img = []\n",
    "    scale = 0.05\n",
    "    all_boxes = []\n",
    "    for i in range(len(results['scores'])):\n",
    "        bounding_box = scaler(results['boxes'][i].tolist(),scale,scale,width,height)\n",
    "        all_boxes.append(bounding_box)\n",
    "        cropped_img.append(image.crop(bounding_box))\n",
    "    \n",
    "    for i in all_boxes:\n",
    "        mask_height = int(i[3] - i[1])\n",
    "        mask_width = int(i[2] - i[0])\n",
    "        square = np.full((mask_height, mask_width),255)\n",
    "        square_img = Image.fromarray(square)\n",
    "        image.paste(square_img,(int(i[0]),int(i[1])))\n",
    "        \n",
    "    return cropped_img,image"
   ]
  },
  {
   "cell_type": "code",
   "execution_count": null,
   "id": "dc0c8701",
   "metadata": {},
   "outputs": [],
   "source": [
    "def table_structure_detection(image):\n",
    "    width, height = image.size\n",
    "    feature_extractor = DetrFeatureExtractor()\n",
    "    encoding = feature_extractor(image, return_tensors=\"pt\")\n",
    "    model = TableTransformerForObjectDetection.from_pretrained(\"microsoft/table-transformer-structure-recognition\")\n",
    "    \n",
    "    with torch.no_grad():\n",
    "        outputs = model(**encoding)\n",
    "    target_sizes = [image.size[::-1]]\n",
    "    results = feature_extractor.post_process_object_detection(outputs, threshold=0.8, target_sizes=target_sizes)[0]\n",
    "    \n",
    "    output = {'col_data':[],'row_data':[],'col_header_data':[],'row_header_data':[]}\n",
    "    \n",
    "    #plot_results(model,image, results['scores'], results['labels'], results['boxes'])\n",
    "    y_scale = 0.03\n",
    "    for i in range(len(results['boxes'])):\n",
    "        if results['labels'][i] == 1:\n",
    "            bounding_box = scaler(results['boxes'][i].tolist(),1,y_scale,width,height)\n",
    "            output['col_data'].append(image.crop(bounding_box))\n",
    "        elif results['labels'][i] == 2:\n",
    "            bounding_box = scaler(results['boxes'][i].tolist(),1,y_scale,width,height)\n",
    "            output['row_data'].append(image.crop(bounding_box))\n",
    "        elif results['labels'][i] == 3:\n",
    "            bounding_box = scaler(results['boxes'][i].tolist(),1,y_scale,width,height)\n",
    "            output['col_header_data'].append(image.crop(bounding_box))\n",
    "        elif results['labels'][i] == 4:\n",
    "            bounding_box = scaler(results['boxes'][i].tolist(),1,y_scale,width,height)\n",
    "            output['row_header_data'].append(image.crop(bounding_box))\n",
    "    \n",
    "    return output"
   ]
  },
  {
   "cell_type": "code",
   "execution_count": 21,
   "id": "98f9c5fa",
   "metadata": {},
   "outputs": [],
   "source": [
    "import matplotlib.pyplot as plt\n",
    "\n",
    "# colors for visualization\n",
    "COLORS = [[0.000, 0.447, 0.741], [0.850, 0.325, 0.098], [0.929, 0.694, 0.125],\n",
    "          [0.494, 0.184, 0.556], [0.466, 0.674, 0.188], [0.301, 0.745, 0.933]]\n",
    "\n",
    "def plot_results(model,pil_img, scores, labels, boxes):\n",
    "    plt.figure(figsize=(16,10))\n",
    "    plt.imshow(pil_img)\n",
    "    ax = plt.gca()\n",
    "    colors = COLORS * 100\n",
    "    for score, label, (xmin, ymin, xmax, ymax),c  in zip(scores.tolist(), labels.tolist(), boxes.tolist(), colors):\n",
    "        ax.add_patch(plt.Rectangle((xmin, ymin), xmax - xmin, ymax - ymin,\n",
    "                                   fill=False, color=c, linewidth=3))\n",
    "        text = f'{model.config.id2label[label]}: {score:0.2f}'\n",
    "        ax.text(xmin, ymin, text, fontsize=15,\n",
    "                bbox=dict(facecolor='yellow', alpha=0.5))\n",
    "    plt.axis('off')\n",
    "    plt.show()"
   ]
  },
  {
   "cell_type": "code",
   "execution_count": 22,
   "id": "66f30903",
   "metadata": {},
   "outputs": [
    {
     "name": "stdout",
     "output_type": "stream",
     "text": [
      "[2023/06/29 09:26:31] ppocr DEBUG: Namespace(help='==SUPPRESS==', use_gpu=False, use_xpu=False, use_npu=False, ir_optim=True, use_tensorrt=False, min_subgraph_size=15, precision='fp32', gpu_mem=500, image_dir=None, page_num=0, det_algorithm='DB', det_model_dir='/home/jovyan/.paddleocr/whl/det/en/en_PP-OCRv3_det_infer', det_limit_side_len=960, det_limit_type='max', det_box_type='quad', det_db_thresh=0.3, det_db_box_thresh=0.6, det_db_unclip_ratio=1.5, max_batch_size=10, use_dilation=False, det_db_score_mode='fast', det_east_score_thresh=0.8, det_east_cover_thresh=0.1, det_east_nms_thresh=0.2, det_sast_score_thresh=0.5, det_sast_nms_thresh=0.2, det_pse_thresh=0, det_pse_box_thresh=0.85, det_pse_min_area=16, det_pse_scale=1, scales=[8, 16, 32], alpha=1.0, beta=1.0, fourier_degree=5, rec_algorithm='SVTR_LCNet', rec_model_dir='/home/jovyan/.paddleocr/whl/rec/en/en_PP-OCRv3_rec_infer', rec_image_inverse=True, rec_image_shape='3, 48, 320', rec_batch_num=6, max_text_length=25, rec_char_dict_path='/opt/conda/lib/python3.10/site-packages/paddleocr/ppocr/utils/en_dict.txt', use_space_char=True, vis_font_path='./doc/fonts/simfang.ttf', drop_score=0.5, e2e_algorithm='PGNet', e2e_model_dir=None, e2e_limit_side_len=768, e2e_limit_type='max', e2e_pgnet_score_thresh=0.5, e2e_char_dict_path='./ppocr/utils/ic15_dict.txt', e2e_pgnet_valid_set='totaltext', e2e_pgnet_mode='fast', use_angle_cls=False, cls_model_dir='/home/jovyan/.paddleocr/whl/cls/ch_ppocr_mobile_v2.0_cls_infer', cls_image_shape='3, 48, 192', label_list=['0', '180'], cls_batch_num=6, cls_thresh=0.9, enable_mkldnn=False, cpu_threads=10, use_pdserving=False, warmup=False, sr_model_dir=None, sr_image_shape='3, 32, 128', sr_batch_num=1, draw_img_save_dir='./inference_results', save_crop_res=False, crop_res_save_dir='./output', use_mp=False, total_process_num=1, process_id=0, benchmark=False, save_log_path='./log_output/', show_log=True, use_onnx=False, output='./output', table_max_len=488, table_algorithm='TableAttn', table_model_dir=None, merge_no_span_structure=True, table_char_dict_path=None, layout_model_dir=None, layout_dict_path=None, layout_score_threshold=0.5, layout_nms_threshold=0.5, kie_algorithm='LayoutXLM', ser_model_dir=None, re_model_dir=None, use_visual_backbone=True, ser_dict_path='../train_data/XFUND/class_list_xfun.txt', ocr_order_method=None, mode='structure', image_orientation=False, layout=True, table=True, ocr=True, recovery=False, use_pdf2docx_api=False, lang='en', det=True, rec=True, type='ocr', ocr_version='PP-OCRv3', structure_version='PP-StructureV2')\n"
     ]
    }
   ],
   "source": [
    "from paddleocr import PaddleOCR, draw_ocr # main OCR dependencies\n",
    "from matplotlib import pyplot as plt # plot images\n",
    "import cv2 #opencv\n",
    "import os # folder directory navigation\n",
    "from numpy import asarray\n",
    "\n",
    "ocr_model = PaddleOCR(lang='en')\n",
    "\n",
    "def extract_data(split_table):\n",
    "    output = []\n",
    "    for i in split_table:\n",
    "        #Ran OCR to get a split list output\n",
    "        #output.append(ocr_model.ocr(i))\n",
    "        numpydata = asarray(i)\n",
    "        res = ocr_model.ocr(numpydata, cls=True)\n",
    "        for i,item in enumerate(res[0]):\n",
    "            res[0][i][1] = res[0][i][1][0]\n",
    "        # print(\"result\")\n",
    "        # print(res)\n",
    "        output.append(res)\n",
    "\n",
    "    return output"
   ]
  },
  {
   "cell_type": "code",
   "execution_count": 23,
   "id": "46608288",
   "metadata": {},
   "outputs": [],
   "source": [
    "def get_table_data(img):\n",
    "    #Locate tables on the image\n",
    "    tables,image_no_table = table_detection(img)\n",
    "    \n",
    "    #Figure out headers and data inside the table\n",
    "    split_tables = {}\n",
    "    for i,table in enumerate(tables):\n",
    "        split_tables[i] = table_structure_detection(table)\n",
    "    \n",
    "    # #Perform OCR on each table detected\n",
    "    data = {}\n",
    "    for i,split_table in split_tables.items():\n",
    "        data[0] = {}\n",
    "        if len(split_table['col_header_data'])>0:\n",
    "            data[i]['header_data'] = extract_data(split_table['col_header_data'])\n",
    "        if len(split_table['row_data'])>0:\n",
    "            data[i]['row_data'] = extract_data(split_table['row_data'])\n",
    "\n",
    "    #perform OCR on the rest of the image\n",
    "    data_no_table = extract_data([image_no_table])\n",
    "    data[\"data_no_table\"] = data_no_table[0]\n",
    "    return data"
   ]
  },
  {
   "cell_type": "code",
   "execution_count": 24,
   "id": "e39f48ca",
   "metadata": {},
   "outputs": [
    {
     "ename": "TypeError",
     "evalue": "Cannot handle this data type: (1, 1), <i8",
     "output_type": "error",
     "traceback": [
      "\u001b[0;31m---------------------------------------------------------------------------\u001b[0m",
      "\u001b[0;31mKeyError\u001b[0m                                  Traceback (most recent call last)",
      "File \u001b[0;32m/opt/conda/lib/python3.10/site-packages/PIL/Image.py:2992\u001b[0m, in \u001b[0;36mfromarray\u001b[0;34m(obj, mode)\u001b[0m\n\u001b[1;32m   2991\u001b[0m \u001b[38;5;28;01mtry\u001b[39;00m:\n\u001b[0;32m-> 2992\u001b[0m     mode, rawmode \u001b[38;5;241m=\u001b[39m \u001b[43m_fromarray_typemap\u001b[49m\u001b[43m[\u001b[49m\u001b[43mtypekey\u001b[49m\u001b[43m]\u001b[49m\n\u001b[1;32m   2993\u001b[0m \u001b[38;5;28;01mexcept\u001b[39;00m \u001b[38;5;167;01mKeyError\u001b[39;00m \u001b[38;5;28;01mas\u001b[39;00m e:\n",
      "\u001b[0;31mKeyError\u001b[0m: ((1, 1), '<i8')",
      "\nThe above exception was the direct cause of the following exception:\n",
      "\u001b[0;31mTypeError\u001b[0m                                 Traceback (most recent call last)",
      "Cell \u001b[0;32mIn[24], line 3\u001b[0m\n\u001b[1;32m      1\u001b[0m file_path \u001b[38;5;241m=\u001b[39m \u001b[38;5;124m\"\u001b[39m\u001b[38;5;124m../data/invoice_sample.jpg\u001b[39m\u001b[38;5;124m\"\u001b[39m\n\u001b[1;32m      2\u001b[0m image \u001b[38;5;241m=\u001b[39m Image\u001b[38;5;241m.\u001b[39mopen(file_path)\u001b[38;5;241m.\u001b[39mconvert(\u001b[38;5;124m\"\u001b[39m\u001b[38;5;124mRGB\u001b[39m\u001b[38;5;124m\"\u001b[39m)\n\u001b[0;32m----> 3\u001b[0m data \u001b[38;5;241m=\u001b[39m \u001b[43mget_table_data\u001b[49m\u001b[43m(\u001b[49m\u001b[43mimage\u001b[49m\u001b[43m)\u001b[49m\n\u001b[1;32m      4\u001b[0m \u001b[38;5;28mprint\u001b[39m(data)\n",
      "Cell \u001b[0;32mIn[23], line 3\u001b[0m, in \u001b[0;36mget_table_data\u001b[0;34m(img)\u001b[0m\n\u001b[1;32m      1\u001b[0m \u001b[38;5;28;01mdef\u001b[39;00m \u001b[38;5;21mget_table_data\u001b[39m(img):\n\u001b[1;32m      2\u001b[0m     \u001b[38;5;66;03m#Locate tables on the image\u001b[39;00m\n\u001b[0;32m----> 3\u001b[0m     tables,image_no_table \u001b[38;5;241m=\u001b[39m \u001b[43mtable_detection\u001b[49m\u001b[43m(\u001b[49m\u001b[43mimg\u001b[49m\u001b[43m)\u001b[49m\n\u001b[1;32m      5\u001b[0m     \u001b[38;5;66;03m#Figure out headers and data inside the table\u001b[39;00m\n\u001b[1;32m      6\u001b[0m     split_tables \u001b[38;5;241m=\u001b[39m {}\n",
      "Cell \u001b[0;32mIn[15], line 24\u001b[0m, in \u001b[0;36mtable_detection\u001b[0;34m(image)\u001b[0m\n\u001b[1;32m     22\u001b[0m     mask_width \u001b[38;5;241m=\u001b[39m \u001b[38;5;28mint\u001b[39m(i[\u001b[38;5;241m2\u001b[39m] \u001b[38;5;241m-\u001b[39m i[\u001b[38;5;241m0\u001b[39m])\n\u001b[1;32m     23\u001b[0m     square \u001b[38;5;241m=\u001b[39m np\u001b[38;5;241m.\u001b[39mfull((mask_height, mask_width),\u001b[38;5;241m255\u001b[39m)\n\u001b[0;32m---> 24\u001b[0m     square_img \u001b[38;5;241m=\u001b[39m \u001b[43mImage\u001b[49m\u001b[38;5;241;43m.\u001b[39;49m\u001b[43mfromarray\u001b[49m\u001b[43m(\u001b[49m\u001b[43msquare\u001b[49m\u001b[43m)\u001b[49m\n\u001b[1;32m     25\u001b[0m     image\u001b[38;5;241m.\u001b[39mpaste(square_img,(\u001b[38;5;28mint\u001b[39m(i[\u001b[38;5;241m0\u001b[39m]),\u001b[38;5;28mint\u001b[39m(i[\u001b[38;5;241m1\u001b[39m])))\n\u001b[1;32m     27\u001b[0m \u001b[38;5;28;01mreturn\u001b[39;00m cropped_img,image\n",
      "File \u001b[0;32m/opt/conda/lib/python3.10/site-packages/PIL/Image.py:2994\u001b[0m, in \u001b[0;36mfromarray\u001b[0;34m(obj, mode)\u001b[0m\n\u001b[1;32m   2992\u001b[0m         mode, rawmode \u001b[38;5;241m=\u001b[39m _fromarray_typemap[typekey]\n\u001b[1;32m   2993\u001b[0m     \u001b[38;5;28;01mexcept\u001b[39;00m \u001b[38;5;167;01mKeyError\u001b[39;00m \u001b[38;5;28;01mas\u001b[39;00m e:\n\u001b[0;32m-> 2994\u001b[0m         \u001b[38;5;28;01mraise\u001b[39;00m \u001b[38;5;167;01mTypeError\u001b[39;00m(\u001b[38;5;124m\"\u001b[39m\u001b[38;5;124mCannot handle this data type: \u001b[39m\u001b[38;5;132;01m%s\u001b[39;00m\u001b[38;5;124m, \u001b[39m\u001b[38;5;132;01m%s\u001b[39;00m\u001b[38;5;124m\"\u001b[39m \u001b[38;5;241m%\u001b[39m typekey) \u001b[38;5;28;01mfrom\u001b[39;00m \u001b[38;5;21;01me\u001b[39;00m\n\u001b[1;32m   2995\u001b[0m \u001b[38;5;28;01melse\u001b[39;00m:\n\u001b[1;32m   2996\u001b[0m     rawmode \u001b[38;5;241m=\u001b[39m mode\n",
      "\u001b[0;31mTypeError\u001b[0m: Cannot handle this data type: (1, 1), <i8"
     ]
    }
   ],
   "source": [
    "file_path = \"/home/engineerbear/Documents/OCR/data/invoice_sample.jpg\"\n",
    "image = Image.open(file_path).convert(\"RGB\")\n",
    "data = get_table_data(image)\n",
    "print(data)"
   ]
  },
  {
   "cell_type": "code",
   "execution_count": null,
   "id": "8fda99f6-2a86-4781-9ca2-4ae9d7806ee8",
   "metadata": {},
   "outputs": [],
   "source": [
    "#paddleocr ouputs as a nested list so convert to dict for easier parseing to json \n",
    "\n",
    "formatted_rows = {}\n",
    "for j,row in enumerate(data[0]['row_data']):\n",
    "    formatted_rows[j] = {}\n",
    "    for i,entry in enumerate(row[0]):\n",
    "        formatted_rows[j][i] = {}\n",
    "        formatted_rows[j][i]['boundingBox'] = entry[0]\n",
    "        formatted_rows[j][i]['data'] = entry[1]\n",
    "        # print(entry[1])\n",
    "data[0]['row_data'] = formatted_rows\n",
    "\n",
    "formatted_header = {}\n",
    "for i,entry in enumerate(data[0]['header_data'][0][0]):\n",
    "    formatted_header[i] = {}\n",
    "    formatted_header[i]['boundingBox'] = entry[0]\n",
    "    formatted_header[i]['data'] = entry[1]\n",
    "\n",
    "data[0]['header_data'] = formatted_header\n"
   ]
  },
  {
   "cell_type": "code",
   "execution_count": null,
   "id": "c2bd34d2-2042-41d5-8900-8fc20fbafd6c",
   "metadata": {},
   "outputs": [],
   "source": [
    "#makes data into json object\n",
    "\n",
    "import json\n",
    "\n",
    "def preprocess_data(data):\n",
    "    \n",
    "\n",
    "    \n",
    "    # Indent the data\n",
    "    indented_data = json.dumps(data, indent=4)\n",
    "    \n",
    "    # Load the indented data as a JSON object\n",
    "    json_object = json.loads(indented_data)\n",
    "    \n",
    "    return json_object\n",
    "    \n",
    "preprocessed_data = preprocess_data(data)\n",
    "preprocessed_data"
   ]
  },
  {
   "cell_type": "code",
   "execution_count": null,
   "id": "80d018bf-8bd5-432c-8dd5-0e00ff85d60f",
   "metadata": {},
   "outputs": [],
   "source": [
    "preprocessed_data['0']['header_data']['0']"
   ]
  }
 ],
 "metadata": {
  "kernelspec": {
   "display_name": "Python 3 (ipykernel)",
   "language": "python",
   "name": "python3"
  },
  "language_info": {
   "codemirror_mode": {
    "name": "ipython",
    "version": 3
   },
   "file_extension": ".py",
   "mimetype": "text/x-python",
   "name": "python",
   "nbconvert_exporter": "python",
   "pygments_lexer": "ipython3",
   "version": "3.10.11"
  }
 },
 "nbformat": 4,
 "nbformat_minor": 5
}
