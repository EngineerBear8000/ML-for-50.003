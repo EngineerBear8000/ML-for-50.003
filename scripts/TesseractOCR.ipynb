{
 "cells": [
  {
   "cell_type": "code",
   "execution_count": 2,
   "id": "ac68a07e",
   "metadata": {},
   "outputs": [],
   "source": [
    "import cv2\n",
    "import pytesseract\n",
    "from PIL import Image\n",
    "pytesseract.pytesseract.tesseract_cmd = r'C:\\Program Files (x86)\\Tesseract-OCR\\tesseract.exe'"
   ]
  },
  {
   "cell_type": "code",
   "execution_count": 6,
   "id": "4c2db304",
   "metadata": {},
   "outputs": [
    {
     "name": "stdout",
     "output_type": "stream",
     "text": [
      "Reg No, : 20-0003176 R\n",
      "\n",
      "2s pe panne Avenue 9 #03-57 Wood: TAX INV 4\n",
      "a ad Tel: 8365 5115 a ~~ EE lan at oh SEL vumosi7t0 | noerrio\n",
      "\n",
      "| Nes Eg Minto UpStnatics Go, thay No. :20-0008176 R\n",
      "| Bik 103 Vishun Ring Ra WOW ECON\n",
      "#01-78, S'pore 780103 | DATE owo7/2021\n",
      "Dalvery after 10.30amNo delivery on sat ae\n",
      "el: 67: :\n",
      "Toot te 022 98180618 8109 ORDERNO,; \"eee\n",
      "\n",
      "PAGE ; Page 1 of\n",
      "\n",
      "DESCRI PTION\n",
      "\n",
      "Onn\n",
      "Peesasio 32K S76 oe 7. 5.\n",
      ": Pringles Sour Cream & Onion 147g 1000867 4CITN\n",
      "Pe 4OXSxX150°S ‘Scoll FT is ce\n",
      "ag 150's- Value Pack 134337 —{ CIN\n",
      "er is 4.25/PKT\n",
      "Daxsos Scott KT 80'S-2 Rolls 017723 a ;\n",
      "= : ee CTN 2,08 /PKT. 1,20\n",
      "¢ g ;\n",
      "j\n",
      "\n",
      "GROSS AMOUNT ; 90.12 DISCOUNT: 2%\n",
      "\n",
      "REMAR' va =\n",
      "\n",
      "TOTAL SGD NINETY FOUR AND FIFTY CENTS NET AMT «i\n",
      "cst@!™\n",
      "\n",
      "|\n",
      "\n",
      "/ AMT\n",
      "/ \\ PAYABLE\n",
      "Title does not pass until full payment has been made. TSE\n",
      "\n",
      "Cheque must be crossed and made payable to ; Paynow, 2080031763001\n",
      "lia Mei Trading (S) Pte Ltd f F alo]\n",
      "ayNow : 200003176R001\n",
      "\n",
      "SS\n",
      "ae ete ise\n",
      "n\n",
      "3 Yishun ring Rood aig\n",
      "el: 6753\n",
      "\n",
      "{\n",
      "\n",
      "CUSTOMER’S SIGNATURI\n",
      "\n",
      "_ FOR Jia Mei Trading (S) Pte Ltd EA MENT COPY\n",
      "\n",
      "we ci So tne = ee OO a CUSTOMER'S SIGNATURE & STAMP\n",
      "\n",
      "\n"
     ]
    }
   ],
   "source": [
    "img = Image.open(\"../data/R-4-24.jpg\")\n",
    "print(pytesseract.image_to_string(img))"
   ]
  },
  {
   "cell_type": "code",
   "execution_count": null,
   "id": "53e65497",
   "metadata": {},
   "outputs": [],
   "source": []
  }
 ],
 "metadata": {
  "kernelspec": {
   "display_name": "Python 3 (ipykernel)",
   "language": "python",
   "name": "python3"
  },
  "language_info": {
   "codemirror_mode": {
    "name": "ipython",
    "version": 3
   },
   "file_extension": ".py",
   "mimetype": "text/x-python",
   "name": "python",
   "nbconvert_exporter": "python",
   "pygments_lexer": "ipython3",
   "version": "3.10.8"
  }
 },
 "nbformat": 4,
 "nbformat_minor": 5
}
