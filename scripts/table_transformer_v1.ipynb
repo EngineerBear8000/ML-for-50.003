{
 "cells": [
  {
   "cell_type": "code",
   "execution_count": 1,
   "id": "e392486b",
   "metadata": {},
   "outputs": [],
   "source": [
    "##Install Prerequesites\n",
    "#!pip install -q git+https://github.com/huggingface/transformers.git\n",
    "#!pip install -q timm"
   ]
  },
  {
   "cell_type": "code",
   "execution_count": 2,
   "id": "23bef49d",
   "metadata": {},
   "outputs": [],
   "source": [
    "import torch\n",
    "from huggingface_hub import hf_hub_download\n",
    "from PIL import Image\n",
    "from transformers import DetrFeatureExtractor\n",
    "from transformers import TableTransformerForObjectDetection"
   ]
  },
  {
   "cell_type": "code",
   "execution_count": 3,
   "id": "b65bf74e",
   "metadata": {},
   "outputs": [],
   "source": [
    "def scaler(box,xscale,yscale,xmax,ymax):\n",
    "    box[0]*=1-xscale\n",
    "    box[1]*=1-yscale\n",
    "    box[2]*=1+xscale\n",
    "    box[3]*=1+yscale\n",
    "    if box[2]>xmax:\n",
    "        box[2] = xmax\n",
    "    if box[3]>ymax:\n",
    "        box[3] = ymax\n",
    "    return box"
   ]
  },
  {
   "cell_type": "code",
   "execution_count": 4,
   "id": "54ae3ade",
   "metadata": {},
   "outputs": [],
   "source": [
    "def table_detection(image):\n",
    "    width, height = image.size\n",
    "    feature_extractor = DetrFeatureExtractor()\n",
    "    encoding = feature_extractor(image, return_tensors=\"pt\")\n",
    "    model = TableTransformerForObjectDetection.from_pretrained(\"microsoft/table-transformer-detection\")\n",
    "\n",
    "    with torch.no_grad():\n",
    "        outputs = model(**encoding)\n",
    "\n",
    "    results = feature_extractor.post_process_object_detection(outputs, threshold=0.7, target_sizes=[(height, width)])[0]\n",
    "\n",
    "    cropped_img = []\n",
    "    scale = 0.05\n",
    "    for i in range(len(results['scores'])):\n",
    "        bounding_box = scaler(results['boxes'][i].tolist(),scale,scale,width,height)\n",
    "        cropped_img.append(image.crop(bounding_box))\n",
    "    \n",
    "    return cropped_img"
   ]
  },
  {
   "cell_type": "code",
   "execution_count": 5,
   "id": "dc0c8701",
   "metadata": {},
   "outputs": [],
   "source": [
    "def table_structure_detection(image):\n",
    "    width, height = image.size\n",
    "    feature_extractor = DetrFeatureExtractor()\n",
    "    encoding = feature_extractor(image, return_tensors=\"pt\")\n",
    "    model = TableTransformerForObjectDetection.from_pretrained(\"microsoft/table-transformer-structure-recognition\")\n",
    "    \n",
    "    with torch.no_grad():\n",
    "        outputs = model(**encoding)\n",
    "    target_sizes = [image.size[::-1]]\n",
    "    results = feature_extractor.post_process_object_detection(outputs, threshold=0.8, target_sizes=target_sizes)[0]\n",
    "    \n",
    "    output = {'col_data':[],'row_data':[],'col_header_data':[],'row_header_data':[]}\n",
    "    \n",
    "    #plot_results(model,image, results['scores'], results['labels'], results['boxes'])\n",
    "    y_scale = 0.03\n",
    "    for i in range(len(results['boxes'])):\n",
    "        if results['labels'][i] == 1:\n",
    "            bounding_box = scaler(results['boxes'][i].tolist(),1,y_scale,width,height)\n",
    "            output['col_data'].append(image.crop(bounding_box))\n",
    "        elif results['labels'][i] == 2:\n",
    "            bounding_box = scaler(results['boxes'][i].tolist(),1,y_scale,width,height)\n",
    "            output['row_data'].append(image.crop(bounding_box))\n",
    "        elif results['labels'][i] == 3:\n",
    "            bounding_box = scaler(results['boxes'][i].tolist(),1,y_scale,width,height)\n",
    "            output['col_header_data'].append(image.crop(bounding_box))\n",
    "        elif results['labels'][i] == 4:\n",
    "            bounding_box = scaler(results['boxes'][i].tolist(),1,y_scale,width,height)\n",
    "            output['row_header_data'].append(image.crop(bounding_box))\n",
    "    \n",
    "    return output"
   ]
  },
  {
   "cell_type": "code",
   "execution_count": 6,
   "id": "98f9c5fa",
   "metadata": {},
   "outputs": [],
   "source": [
    "import matplotlib.pyplot as plt\n",
    "\n",
    "# colors for visualization\n",
    "COLORS = [[0.000, 0.447, 0.741], [0.850, 0.325, 0.098], [0.929, 0.694, 0.125],\n",
    "          [0.494, 0.184, 0.556], [0.466, 0.674, 0.188], [0.301, 0.745, 0.933]]\n",
    "\n",
    "def plot_results(model,pil_img, scores, labels, boxes):\n",
    "    plt.figure(figsize=(16,10))\n",
    "    plt.imshow(pil_img)\n",
    "    ax = plt.gca()\n",
    "    colors = COLORS * 100\n",
    "    for score, label, (xmin, ymin, xmax, ymax),c  in zip(scores.tolist(), labels.tolist(), boxes.tolist(), colors):\n",
    "        ax.add_patch(plt.Rectangle((xmin, ymin), xmax - xmin, ymax - ymin,\n",
    "                                   fill=False, color=c, linewidth=3))\n",
    "        text = f'{model.config.id2label[label]}: {score:0.2f}'\n",
    "        ax.text(xmin, ymin, text, fontsize=15,\n",
    "                bbox=dict(facecolor='yellow', alpha=0.5))\n",
    "    plt.axis('off')\n",
    "    plt.show()"
   ]
  },
  {
   "cell_type": "code",
   "execution_count": 48,
   "id": "66f30903",
   "metadata": {},
   "outputs": [
    {
     "name": "stdout",
     "output_type": "stream",
     "text": [
      "[2023/06/13 14:15:30] ppocr DEBUG: Namespace(help='==SUPPRESS==', use_gpu=False, use_xpu=False, use_npu=False, ir_optim=True, use_tensorrt=False, min_subgraph_size=15, precision='fp32', gpu_mem=500, image_dir=None, page_num=0, det_algorithm='DB', det_model_dir='/home/jovyan/.paddleocr/whl/det/en/en_PP-OCRv3_det_infer', det_limit_side_len=960, det_limit_type='max', det_box_type='quad', det_db_thresh=0.3, det_db_box_thresh=0.6, det_db_unclip_ratio=1.5, max_batch_size=10, use_dilation=False, det_db_score_mode='fast', det_east_score_thresh=0.8, det_east_cover_thresh=0.1, det_east_nms_thresh=0.2, det_sast_score_thresh=0.5, det_sast_nms_thresh=0.2, det_pse_thresh=0, det_pse_box_thresh=0.85, det_pse_min_area=16, det_pse_scale=1, scales=[8, 16, 32], alpha=1.0, beta=1.0, fourier_degree=5, rec_algorithm='SVTR_LCNet', rec_model_dir='/home/jovyan/.paddleocr/whl/rec/en/en_PP-OCRv3_rec_infer', rec_image_inverse=True, rec_image_shape='3, 48, 320', rec_batch_num=6, max_text_length=25, rec_char_dict_path='/opt/conda/lib/python3.10/site-packages/paddleocr/ppocr/utils/en_dict.txt', use_space_char=True, vis_font_path='./doc/fonts/simfang.ttf', drop_score=0.5, e2e_algorithm='PGNet', e2e_model_dir=None, e2e_limit_side_len=768, e2e_limit_type='max', e2e_pgnet_score_thresh=0.5, e2e_char_dict_path='./ppocr/utils/ic15_dict.txt', e2e_pgnet_valid_set='totaltext', e2e_pgnet_mode='fast', use_angle_cls=False, cls_model_dir='/home/jovyan/.paddleocr/whl/cls/ch_ppocr_mobile_v2.0_cls_infer', cls_image_shape='3, 48, 192', label_list=['0', '180'], cls_batch_num=6, cls_thresh=0.9, enable_mkldnn=False, cpu_threads=10, use_pdserving=False, warmup=False, sr_model_dir=None, sr_image_shape='3, 32, 128', sr_batch_num=1, draw_img_save_dir='./inference_results', save_crop_res=False, crop_res_save_dir='./output', use_mp=False, total_process_num=1, process_id=0, benchmark=False, save_log_path='./log_output/', show_log=True, use_onnx=False, output='./output', table_max_len=488, table_algorithm='TableAttn', table_model_dir=None, merge_no_span_structure=True, table_char_dict_path=None, layout_model_dir=None, layout_dict_path=None, layout_score_threshold=0.5, layout_nms_threshold=0.5, kie_algorithm='LayoutXLM', ser_model_dir=None, re_model_dir=None, use_visual_backbone=True, ser_dict_path='../train_data/XFUND/class_list_xfun.txt', ocr_order_method=None, mode='structure', image_orientation=False, layout=True, table=True, ocr=True, recovery=False, use_pdf2docx_api=False, lang='en', det=True, rec=True, type='ocr', ocr_version='PP-OCRv3', structure_version='PP-StructureV2')\n"
     ]
    }
   ],
   "source": [
    "from paddleocr import PaddleOCR, draw_ocr # main OCR dependencies\n",
    "from matplotlib import pyplot as plt # plot images\n",
    "import cv2 #opencv\n",
    "import os # folder directory navigation\n",
    "from numpy import asarray\n",
    "\n",
    "ocr_model = PaddleOCR(lang='en')\n",
    "\n",
    "def extract_data(split_table):\n",
    "    output = []\n",
    "    for i in split_table:\n",
    "        #Ran OCR to get a split list output\n",
    "        #output.append(ocr_model.ocr(i))\n",
    "        numpydata = asarray(i)\n",
    "        output.append(ocr_model.ocr(numpydata, cls=True))\n",
    "\n",
    "    return output"
   ]
  },
  {
   "cell_type": "code",
   "execution_count": null,
   "id": "46608288",
   "metadata": {},
   "outputs": [],
   "source": [
    "def get_table_data(img):\n",
    "    #Locate tables on the image\n",
    "    tables = table_detection(img)\n",
    "    #Figure out headers and data inside the table\n",
    "    split_tables = {}\n",
    "    for i,table in enumerate(tables):\n",
    "        split_tables[i] = table_structure_detection(table)\n",
    "    \n",
    "    \n",
    "    #Perform OCR on each table detected\n",
    "    data = {}\n",
    "    for i,split_table in split_tables.items():\n",
    "        if len(split_table['col_header_data'])>0:\n",
    "            data[i]['header_data'] = extract_data(split_table['col_header_data'])\n",
    "        if len(split_table['row_data'])>0:\n",
    "            data[i]['row_data'] = extract_data(split_table['row_data'])\n",
    "    return data"
   ]
  },
  {
   "cell_type": "code",
   "execution_count": 49,
   "id": "e39f48ca",
   "metadata": {},
   "outputs": [
    {
     "name": "stdout",
     "output_type": "stream",
     "text": [
      "[2023/06/13 14:15:36] ppocr WARNING: Since the angle classifier is not initialized, the angle classifier will not be uesd during the forward process\n",
      "[2023/06/13 14:15:36] ppocr DEBUG: dt_boxes num : 5, elapse : 0.013402938842773438\n",
      "[2023/06/13 14:15:36] ppocr DEBUG: rec_res num  : 5, elapse : 0.15654873847961426\n",
      "[2023/06/13 14:15:36] ppocr WARNING: Since the angle classifier is not initialized, the angle classifier will not be uesd during the forward process\n",
      "[2023/06/13 14:15:36] ppocr DEBUG: dt_boxes num : 5, elapse : 0.031442880630493164\n",
      "[2023/06/13 14:15:37] ppocr DEBUG: rec_res num  : 5, elapse : 0.5468142032623291\n",
      "[2023/06/13 14:15:37] ppocr WARNING: Since the angle classifier is not initialized, the angle classifier will not be uesd during the forward process\n",
      "[2023/06/13 14:15:37] ppocr DEBUG: dt_boxes num : 6, elapse : 0.035529136657714844\n",
      "[2023/06/13 14:15:37] ppocr DEBUG: rec_res num  : 6, elapse : 0.23351407051086426\n",
      "[2023/06/13 14:15:37] ppocr WARNING: Since the angle classifier is not initialized, the angle classifier will not be uesd during the forward process\n",
      "[2023/06/13 14:15:37] ppocr DEBUG: dt_boxes num : 6, elapse : 0.03243422508239746\n",
      "[2023/06/13 14:15:37] ppocr DEBUG: rec_res num  : 6, elapse : 0.251910924911499\n",
      "[2023/06/13 14:15:37] ppocr WARNING: Since the angle classifier is not initialized, the angle classifier will not be uesd during the forward process\n",
      "[2023/06/13 14:15:37] ppocr DEBUG: dt_boxes num : 6, elapse : 0.02220010757446289\n",
      "[2023/06/13 14:15:37] ppocr DEBUG: rec_res num  : 6, elapse : 0.2122201919555664\n",
      "[2023/06/13 14:15:37] ppocr WARNING: Since the angle classifier is not initialized, the angle classifier will not be uesd during the forward process\n",
      "[2023/06/13 14:15:37] ppocr DEBUG: dt_boxes num : 6, elapse : 0.03196096420288086\n",
      "[2023/06/13 14:15:38] ppocr DEBUG: rec_res num  : 6, elapse : 0.27965831756591797\n",
      "[2023/06/13 14:15:38] ppocr WARNING: Since the angle classifier is not initialized, the angle classifier will not be uesd during the forward process\n",
      "[2023/06/13 14:15:38] ppocr DEBUG: dt_boxes num : 6, elapse : 0.03291511535644531\n",
      "[2023/06/13 14:15:38] ppocr DEBUG: rec_res num  : 6, elapse : 0.23743653297424316\n",
      "[2023/06/13 14:15:38] ppocr WARNING: Since the angle classifier is not initialized, the angle classifier will not be uesd during the forward process\n",
      "[2023/06/13 14:15:38] ppocr DEBUG: dt_boxes num : 4, elapse : 0.032018184661865234\n",
      "[2023/06/13 14:15:38] ppocr DEBUG: rec_res num  : 4, elapse : 0.252396821975708\n",
      "[2023/06/13 14:15:38] ppocr WARNING: Since the angle classifier is not initialized, the angle classifier will not be uesd during the forward process\n",
      "[2023/06/13 14:15:38] ppocr DEBUG: dt_boxes num : 5, elapse : 0.012174606323242188\n",
      "[2023/06/13 14:15:38] ppocr DEBUG: rec_res num  : 5, elapse : 0.1623234748840332\n",
      "[2023/06/13 14:15:38] ppocr WARNING: Since the angle classifier is not initialized, the angle classifier will not be uesd during the forward process\n",
      "[2023/06/13 14:15:39] ppocr DEBUG: dt_boxes num : 4, elapse : 0.03135228157043457\n",
      "[2023/06/13 14:15:39] ppocr DEBUG: rec_res num  : 4, elapse : 0.38747191429138184\n",
      "[2023/06/13 14:15:39] ppocr WARNING: Since the angle classifier is not initialized, the angle classifier will not be uesd during the forward process\n",
      "[2023/06/13 14:15:39] ppocr DEBUG: dt_boxes num : 3, elapse : 0.031176090240478516\n",
      "[2023/06/13 14:15:39] ppocr DEBUG: rec_res num  : 3, elapse : 0.1508493423461914\n",
      "[2023/06/13 14:15:39] ppocr WARNING: Since the angle classifier is not initialized, the angle classifier will not be uesd during the forward process\n",
      "[2023/06/13 14:15:39] ppocr DEBUG: dt_boxes num : 3, elapse : 0.03101325035095215\n",
      "[2023/06/13 14:15:39] ppocr DEBUG: rec_res num  : 3, elapse : 0.188673734664917\n",
      "{'header_data': [[[[[[2.0, 5.0], [80.0, 1.0], [81.0, 23.0], [3.0, 27.0]], ('PRODUCT', 0.9992745518684387)], [[[445.0, 4.0], [515.0, 4.0], [515.0, 25.0], [445.0, 25.0]], ('HS CODE', 0.9939919710159302)], [[[612.0, 3.0], [662.0, 3.0], [662.0, 25.0], [612.0, 25.0]], ('UNITS', 0.9979069828987122)], [[[733.0, 6.0], [820.0, 6.0], [820.0, 22.0], [733.0, 22.0]], ('UNIT PRICE', 0.9639660120010376)], [[[1010.0, 3.0], [1063.0, 3.0], [1063.0, 25.0], [1010.0, 25.0]], ('TOTAL', 0.9993152618408203)]]]], 'row_data': [[[[[[5.0, 22.0], [215.0, 22.0], [215.0, 39.0], [5.0, 39.0]], ('Description of the goods', 0.9619193077087402)], [[[692.0, 33.0], [823.0, 33.0], [823.0, 55.0], [692.0, 55.0]], ('Sales Tax (VAT)', 0.9877867102622986)], [[[989.0, 34.0], [1064.0, 31.0], [1065.0, 53.0], [990.0, 56.0]], ('$117.00', 0.9983221292495728)], [[[1.0, 46.0], [362.0, 45.0], [362.0, 66.0], [1.0, 67.0]], ('(number of packages, units, weight, etc.):', 0.996884822845459)], [[[7.0, 80.0], [346.0, 81.0], [346.0, 95.0], [7.0, 94.0]], (' Pallet.1200x800x1500mm.(15.2kg).1pc', 0.8611676692962646)]]], [[[[[2.0, 31.0], [153.0, 31.0], [153.0, 52.0], [2.0, 52.0]], ('Pole with bracket', 0.9995348453521729)], [[[429.0, 46.0], [530.0, 46.0], [530.0, 65.0], [429.0, 65.0]], ('88565.2545', 0.999904990196228)], [[[627.0, 44.0], [646.0, 44.0], [646.0, 70.0], [627.0, 70.0]], ('1', 0.9999008178710938)], [[[746.0, 45.0], [809.0, 45.0], [809.0, 68.0], [746.0, 68.0]], ('$85.00', 0.9484591484069824)], [[[1001.0, 45.0], [1065.0, 45.0], [1065.0, 68.0], [1001.0, 68.0]], ('$85.00', 0.9999573826789856)], [[[2.0, 57.0], [149.0, 57.0], [149.0, 75.0], [2.0, 75.0]], ('Country of origin: US', 0.9920851588249207)]]], [[[[[1.0, 26.0], [153.0, 29.0], [153.0, 49.0], [1.0, 47.0]], ('Pole with bracket', 0.9974867701530457)], [[[429.0, 43.0], [530.0, 43.0], [530.0, 61.0], [429.0, 61.0]], ('88565.2545', 0.9997959136962891)], [[[627.0, 41.0], [646.0, 41.0], [646.0, 66.0], [627.0, 66.0]], ('1', 0.9998446702957153)], [[[746.0, 42.0], [809.0, 42.0], [809.0, 64.0], [746.0, 64.0]], ('$85.00', 0.9997666478157043)], [[[1001.0, 42.0], [1065.0, 42.0], [1065.0, 64.0], [1001.0, 64.0]], ('$85.00', 0.9999445080757141)], [[[4.0, 55.0], [147.0, 55.0], [147.0, 72.0], [4.0, 72.0]], ('Country of origin: US', 0.9761276245117188)]]], [[[[[2.0, 24.0], [157.0, 21.0], [158.0, 46.0], [3.0, 49.0]], ('Conveyor Belt 25 \"', 0.9701188206672668)], [[[430.0, 39.0], [530.0, 39.0], [530.0, 58.0], [430.0, 58.0]], ('88565.2252', 0.9998511075973511)], [[[628.0, 35.0], [647.0, 35.0], [647.0, 64.0], [628.0, 64.0]], ('2', 0.9687132239341736)], [[[743.0, 38.0], [814.0, 38.0], [814.0, 60.0], [743.0, 60.0]], ('$200.00', 0.9337137341499329)], [[[991.0, 36.0], [1064.0, 36.0], [1064.0, 60.0], [991.0, 60.0]], ('$400.00', 0.9999639391899109)], [[[5.0, 50.0], [147.0, 50.0], [147.0, 69.0], [5.0, 69.0]], ('Country of origin: US', 0.9728124737739563)]]], [[[[[2.0, 33.0], [153.0, 33.0], [153.0, 52.0], [2.0, 52.0]], ('Pole with bracket', 0.9922785758972168)], [[[429.0, 46.0], [530.0, 46.0], [530.0, 65.0], [429.0, 65.0]], ('88565.2545', 0.9998766779899597)], [[[625.0, 43.0], [644.0, 41.0], [647.0, 69.0], [629.0, 71.0]], ('1', 0.9997171759605408)], [[[746.0, 44.0], [809.0, 44.0], [809.0, 68.0], [746.0, 68.0]], ('$85.00', 0.9998663067817688)], [[[1001.0, 44.0], [1065.0, 44.0], [1065.0, 68.0], [1001.0, 68.0]], ('$85.00', 0.999936044216156)], [[[4.0, 59.0], [148.0, 59.0], [148.0, 74.0], [4.0, 74.0]], ('Country of origin: US', 0.9716542363166809)]]], [[[[[2.0, 34.0], [153.0, 34.0], [153.0, 53.0], [2.0, 53.0]], ('Pole with bracket', 0.9912928342819214)], [[[429.0, 47.0], [530.0, 47.0], [530.0, 67.0], [429.0, 67.0]], ('88565.2545', 0.9749294519424438)], [[[628.0, 44.0], [647.0, 44.0], [647.0, 73.0], [628.0, 73.0]], ('1', 0.5376442670822144)], [[[747.0, 47.0], [808.0, 47.0], [808.0, 68.0], [747.0, 68.0]], ('$85.00', 0.9997942447662354)], [[[1002.0, 46.0], [1064.0, 46.0], [1064.0, 67.0], [1002.0, 67.0]], ('$85.00', 0.999821662902832)], [[[5.0, 59.0], [153.0, 59.0], [153.0, 79.0], [5.0, 79.0]], ('Country of origin: US', 0.9969083666801453)]]], [[[[[4.0, 34.0], [135.0, 34.0], [135.0, 52.0], [4.0, 52.0]], ('Incoterms: DAP', 0.9904146790504456)], [[[694.0, 34.0], [779.0, 34.0], [779.0, 52.0], [694.0, 52.0]], ('Insurance', 0.9507865905761719)], [[[1012.0, 33.0], [1064.0, 33.0], [1064.0, 53.0], [1012.0, 53.0]], ('$0.00', 0.9202570915222168)], [[[4.0, 83.0], [215.0, 83.0], [215.0, 98.0], [4.0, 98.0]], ('Description of the goods', 0.9641768336296082)]]], [[[[[4.0, 4.0], [81.0, 4.0], [81.0, 26.0], [4.0, 26.0]], ('PRODUCT', 0.9990047216415405)], [[[445.0, 4.0], [515.0, 4.0], [515.0, 26.0], [445.0, 26.0]], ('HS CODE', 0.9981127381324768)], [[[612.0, 4.0], [662.0, 4.0], [662.0, 26.0], [612.0, 26.0]], ('UNITS', 0.9979069828987122)], [[[733.0, 6.0], [820.0, 6.0], [820.0, 22.0], [733.0, 22.0]], ('UNIT PRICE', 0.969692051410675)], [[[1010.0, 4.0], [1063.0, 4.0], [1063.0, 26.0], [1010.0, 26.0]], ('TOTAL', 0.9993152618408203)]]], [[[[[4.0, 29.0], [346.0, 29.0], [346.0, 46.0], [4.0, 46.0]], ('Pallet 1200x800x1500mm(15.2kg)1pc', 0.9571343064308167)], [[[691.0, 45.0], [741.0, 45.0], [741.0, 63.0], [691.0, 63.0]], ('Total', 0.964150071144104)], [[[988.0, 44.0], [1064.0, 41.0], [1065.0, 63.0], [989.0, 66.0]], ('$702.00', 0.998705267906189)], [[[4.0, 54.0], [374.0, 54.0], [374.0, 71.0], [4.0, 71.0]], ('Carton Box150x200x100mm(15.2kg) 3pcs', 0.9563208818435669)]]], [[[[[5.0, 34.0], [208.0, 34.0], [208.0, 52.0], [5.0, 52.0]], ('Reason for export: SALE', 0.9905308485031128)], [[[692.0, 32.0], [838.0, 32.0], [838.0, 53.0], [692.0, 53.0]], ('Shipping Charges', 0.9997878074645996)], [[[990.0, 34.0], [1063.0, 34.0], [1063.0, 53.0], [990.0, 53.0]], ('$100.00', 0.999575674533844)]]], [[[[[5.0, 45.0], [225.0, 45.0], [225.0, 60.0], [5.0, 60.0]], ('Insurance:NOTINCLUDED', 0.9497109651565552)], [[[691.0, 42.0], [773.0, 42.0], [773.0, 61.0], [691.0, 61.0]], ('Sub Total', 0.9935175776481628)], [[[991.0, 43.0], [1064.0, 43.0], [1064.0, 62.0], [991.0, 62.0]], ('$485.00', 0.9986778497695923)]]]]}\n"
     ]
    }
   ],
   "source": [
    "file_path = \"/data/invoice_sample.jpg\"\n",
    "image = Image.open(file_path).convert(\"RGB\")\n",
    "    \n",
    "data = get_table_data(image)\n",
    "print(data)"
   ]
  }
 ],
 "metadata": {
  "kernelspec": {
   "display_name": "Python 3 (ipykernel)",
   "language": "python",
   "name": "python3"
  },
  "language_info": {
   "codemirror_mode": {
    "name": "ipython",
    "version": 3
   },
   "file_extension": ".py",
   "mimetype": "text/x-python",
   "name": "python",
   "nbconvert_exporter": "python",
   "pygments_lexer": "ipython3",
   "version": "3.10.11"
  }
 },
 "nbformat": 4,
 "nbformat_minor": 5
}
