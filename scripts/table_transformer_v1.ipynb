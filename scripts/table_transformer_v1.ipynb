{
 "cells": [
  {
   "cell_type": "code",
   "execution_count": 5,
   "id": "e392486b",
   "metadata": {},
   "outputs": [],
   "source": [
    "##Install Prerequesites\n",
    "#!pip install -q git+https://github.com/huggingface/transformers.git\n",
    "#!pip install -q timm"
   ]
  },
  {
   "cell_type": "code",
   "execution_count": 1,
   "id": "23bef49d",
   "metadata": {},
   "outputs": [],
   "source": [
    "import torch\n",
    "from huggingface_hub import hf_hub_download\n",
    "from PIL import Image\n",
    "from transformers import DetrFeatureExtractor\n",
    "from transformers import TableTransformerForObjectDetection"
   ]
  },
  {
   "cell_type": "code",
   "execution_count": 2,
   "id": "b65bf74e",
   "metadata": {},
   "outputs": [],
   "source": [
    "def scaler(box,xscale,yscale,xmax,ymax):\n",
    "    box[0]*=1-xscale\n",
    "    box[1]*=1-yscale\n",
    "    box[2]*=1+xscale\n",
    "    box[3]*=1+yscale\n",
    "    if box[2]>xmax:\n",
    "        box[2] = xmax\n",
    "    if box[3]>ymax:\n",
    "        box[3] = ymax\n",
    "    return box"
   ]
  },
  {
   "cell_type": "code",
   "execution_count": 3,
   "id": "54ae3ade",
   "metadata": {},
   "outputs": [],
   "source": [
    "def table_detection(image):\n",
    "    width, height = image.size\n",
    "    feature_extractor = DetrFeatureExtractor()\n",
    "    encoding = feature_extractor(image, return_tensors=\"pt\")\n",
    "    model = TableTransformerForObjectDetection.from_pretrained(\"microsoft/table-transformer-detection\")\n",
    "\n",
    "    with torch.no_grad():\n",
    "        outputs = model(**encoding)\n",
    "\n",
    "    results = feature_extractor.post_process_object_detection(outputs, threshold=0.7, target_sizes=[(height, width)])[0]\n",
    "\n",
    "    cropped_img = []\n",
    "    scale = 0.05\n",
    "    for i in range(len(results['scores'])):\n",
    "        bounding_box = scaler(results['boxes'][i].tolist(),scale,scale,width,height)\n",
    "        cropped_img.append(image.crop(bounding_box))\n",
    "    \n",
    "    return cropped_img"
   ]
  },
  {
   "cell_type": "code",
   "execution_count": 25,
   "id": "dc0c8701",
   "metadata": {},
   "outputs": [],
   "source": [
    "def table_structure_detection(image):\n",
    "    width, height = image.size\n",
    "    feature_extractor = DetrFeatureExtractor()\n",
    "    encoding = feature_extractor(image, return_tensors=\"pt\")\n",
    "    model = TableTransformerForObjectDetection.from_pretrained(\"microsoft/table-transformer-structure-recognition\")\n",
    "    \n",
    "    with torch.no_grad():\n",
    "        outputs = model(**encoding)\n",
    "    target_sizes = [image.size[::-1]]\n",
    "    results = feature_extractor.post_process_object_detection(outputs, threshold=0.8, target_sizes=target_sizes)[0]\n",
    "    \n",
    "    output = {'col_data':[],'row_data':[],'col_header_data':[],'row_header_data':[]}\n",
    "    \n",
    "    #plot_results(model,image, results['scores'], results['labels'], results['boxes'])\n",
    "    y_scale = 0.03\n",
    "    for i in range(len(results['boxes'])):\n",
    "        if results['labels'][i] == 1:\n",
    "            bounding_box = scaler(results['boxes'][i].tolist(),1,y_scale,width,height)\n",
    "            output['col_data'].append(image.crop(bounding_box))\n",
    "        elif results['labels'][i] == 2:\n",
    "            bounding_box = scaler(results['boxes'][i].tolist(),1,y_scale,width,height)\n",
    "            output['row_data'].append(image.crop(bounding_box))\n",
    "        elif results['labels'][i] == 3:\n",
    "            bounding_box = scaler(results['boxes'][i].tolist(),1,y_scale,width,height)\n",
    "            output['col_header_data'].append(image.crop(bounding_box))\n",
    "        elif results['labels'][i] == 4:\n",
    "            bounding_box = scaler(results['boxes'][i].tolist(),1,y_scale,width,height)\n",
    "            output['row_header_data'].append(image.crop(bounding_box))\n",
    "    \n",
    "    return output"
   ]
  },
  {
   "cell_type": "code",
   "execution_count": 21,
   "id": "98f9c5fa",
   "metadata": {},
   "outputs": [],
   "source": [
    "import matplotlib.pyplot as plt\n",
    "\n",
    "# colors for visualization\n",
    "COLORS = [[0.000, 0.447, 0.741], [0.850, 0.325, 0.098], [0.929, 0.694, 0.125],\n",
    "          [0.494, 0.184, 0.556], [0.466, 0.674, 0.188], [0.301, 0.745, 0.933]]\n",
    "\n",
    "def plot_results(model,pil_img, scores, labels, boxes):\n",
    "    plt.figure(figsize=(16,10))\n",
    "    plt.imshow(pil_img)\n",
    "    ax = plt.gca()\n",
    "    colors = COLORS * 100\n",
    "    for score, label, (xmin, ymin, xmax, ymax),c  in zip(scores.tolist(), labels.tolist(), boxes.tolist(), colors):\n",
    "        ax.add_patch(plt.Rectangle((xmin, ymin), xmax - xmin, ymax - ymin,\n",
    "                                   fill=False, color=c, linewidth=3))\n",
    "        text = f'{model.config.id2label[label]}: {score:0.2f}'\n",
    "        ax.text(xmin, ymin, text, fontsize=15,\n",
    "                bbox=dict(facecolor='yellow', alpha=0.5))\n",
    "    plt.axis('off')\n",
    "    plt.show()"
   ]
  },
  {
   "cell_type": "code",
   "execution_count": null,
   "id": "66f30903",
   "metadata": {},
   "outputs": [],
   "source": [
    "def extract_data(split_table):\n",
    "    output = []\n",
    "    for i in split_table:\n",
    "        #Ran OCR to get a split list output\n",
    "        output.append(OCR_extract(i))\n",
    "        \n",
    "    return output"
   ]
  },
  {
   "cell_type": "code",
   "execution_count": 36,
   "id": "46608288",
   "metadata": {},
   "outputs": [],
   "source": [
    "def get_table_data(img):\n",
    "    #Locate tables on the image\n",
    "    tables = table_detection(img)\n",
    "    \n",
    "    #Figure out headers and data inside the table\n",
    "    split_tables = {}\n",
    "    for i,table in enumerate(tables):\n",
    "        split_tables[i] = table_structure_detection(table)\n",
    "    \n",
    "    #Perform OCR on each table detected\n",
    "#     data = {}\n",
    "#     for i,split_table in enumerate(split_tables):\n",
    "#         if len(table['col_header_data'])>0:\n",
    "#             data[i]['header_data'] = extract_data(split_table['col_header_data'])\n",
    "#         if len(table['row_data'])>0:\n",
    "#             data[i]['row_data'] = extract_data(split_table['row_data'])\n",
    "            \n",
    "    return data"
   ]
  },
  {
   "cell_type": "code",
   "execution_count": 37,
   "id": "e39f48ca",
   "metadata": {},
   "outputs": [],
   "source": [
    "file_path = \"test_images/invoice_sample.jpg\"\n",
    "image = Image.open(file_path).convert(\"RGB\")\n",
    "\n",
    "data = get_table_data(image)"
   ]
  },
  {
   "cell_type": "code",
   "execution_count": null,
   "id": "0f588665",
   "metadata": {},
   "outputs": [],
   "source": []
  }
 ],
 "metadata": {
  "kernelspec": {
   "display_name": "Python 3",
   "language": "python",
   "name": "python3"
  },
  "language_info": {
   "codemirror_mode": {
    "name": "ipython",
    "version": 3
   },
   "file_extension": ".py",
   "mimetype": "text/x-python",
   "name": "python",
   "nbconvert_exporter": "python",
   "pygments_lexer": "ipython3",
   "version": "3.8.8"
  }
 },
 "nbformat": 4,
 "nbformat_minor": 5
}
